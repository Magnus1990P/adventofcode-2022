{
 "cells": [
  {
   "attachments": {},
   "cell_type": "markdown",
   "metadata": {},
   "source": [
    "--- Day 12: Hill Climbing Algorithm ---\n",
    "==="
   ]
  },
  {
   "cell_type": "code",
   "execution_count": 53,
   "metadata": {},
   "outputs": [],
   "source": [
    "import string\n",
    "from dataclasses import dataclass\n",
    "\n",
    "with open(\"files/input_12.txt\") as datafile:\n",
    "    raw_text = datafile.read()\n",
    "\n",
    "@dataclass\n",
    "class node:\n",
    "    id = None\n",
    "    height = -1\n",
    "    paths = []\n",
    "\n",
    "    def __init__(self, index, val, paths):\n",
    "        self.height = val\n",
    "        self.id = index\n",
    "        self.paths = paths\n",
    "\n",
    "height_index = \"S\"+string.ascii_lowercase+\"E\"\n",
    "height_values = [height_index.index(char) for char in raw_text if char != \"\\n\"]\n",
    "\n",
    "nodes = []\n",
    "width = 136\n",
    "cell_count = len(height_values)\n",
    "\n",
    "for index,value in enumerate(height_values):\n",
    "    moves = [move for move in [index-1, index+1, index-width, index+width] if move >= 0 and move < cell_count]\n",
    "    legal_moves = [node for node in moves if height_values[node]<=value+1]\n",
    "    nodes.append( node(index, value, legal_moves) )\n",
    "\n",
    "start_node = None\n",
    "end_node = None\n",
    "for n in nodes:\n",
    "    if n.height==0:\n",
    "        start_node = n\n",
    "    if n.height == 27:\n",
    "        end_node = n\n",
    "    \n",
    "visited = []\n",
    "search_queue = [[start_node.id]]\n",
    "current_node = start_node\n",
    "\n",
    "cur_level = -1\n",
    "\n",
    "while current_node.id != end_node.id:\n",
    "    cur_level += 1\n",
    "    if len(search_queue) < cur_level+2:\n",
    "        search_queue.append([])\n",
    "    \n",
    "    while len(search_queue[cur_level]) > 0:\n",
    "        current_node = nodes[ search_queue[cur_level].pop(0) ]\n",
    "        if current_node in visited:\n",
    "            print(\"Already visited\")\n",
    "            continue\n",
    "        visited.append(current_node.id)\n",
    "        search_queue[cur_level+1].extend([id for id in current_node.paths if id not in visited])\n",
    "        print( cur_level, current_node.id)\n",
    "        [print(i, q) for i,q in enumerate(search_queue) if q]\n",
    "        print()\n",
    "\n",
    "print(cur_level)\n",
    "    "
   ]
  },
  {
   "attachments": {},
   "cell_type": "markdown",
   "metadata": {},
   "source": [
    "--- Part Two ---\n",
    "===\n"
   ]
  },
  {
   "cell_type": "code",
   "execution_count": 3,
   "metadata": {},
   "outputs": [],
   "source": [
    "import math\n",
    "\n",
    "with open(\"files/input_11.txt\") as datafile:\n",
    "    raw_text = datafile.read()"
   ]
  }
 ],
 "metadata": {
  "kernelspec": {
   "display_name": "Python 3",
   "language": "python",
   "name": "python3"
  },
  "language_info": {
   "codemirror_mode": {
    "name": "ipython",
    "version": 3
   },
   "file_extension": ".py",
   "mimetype": "text/x-python",
   "name": "python",
   "nbconvert_exporter": "python",
   "pygments_lexer": "ipython3",
   "version": "3.10.6"
  },
  "orig_nbformat": 4,
  "vscode": {
   "interpreter": {
    "hash": "31f2aee4e71d21fbe5cf8b01ff0e069b9275f58929596ceb00d14d90e3e16cd6"
   }
  }
 },
 "nbformat": 4,
 "nbformat_minor": 2
}
